{
 "cells": [
  {
   "cell_type": "code",
   "execution_count": 451,
   "metadata": {},
   "outputs": [],
   "source": [
    "from matplotlib import pyplot as plt\n",
    "import numpy as np\n",
    "import random\n",
    "import math\n",
    "import chess\n",
    "import chess.svg"
   ]
  },
  {
   "cell_type": "code",
   "execution_count": 452,
   "metadata": {},
   "outputs": [
    {
     "data": {
      "text/plain": [
       "'Parámetros de entrada\\n\\ntamaño_poblacion = int(input(\"Tamaño de la población: \"))\\nporcentaje_padres = int(input(\"Porcentaje de padres: \"))\\nporcentaje_cruza = int(input(\"Porcentaje de cruza: \"))\\nporcentaje_mutacion = int(input(\"Porcentaje de mutación: \"))\\nevaluacion_limite = int(input(\"Número de evaluaciones: \"))\\n'"
      ]
     },
     "execution_count": 452,
     "metadata": {},
     "output_type": "execute_result"
    }
   ],
   "source": [
    "'''Parámetros de entrada\n",
    "\n",
    "tamaño_poblacion = int(input(\"Tamaño de la población: \"))\n",
    "porcentaje_padres = int(input(\"Porcentaje de padres: \"))\n",
    "porcentaje_cruza = int(input(\"Porcentaje de cruza: \"))\n",
    "porcentaje_mutacion = int(input(\"Porcentaje de mutación: \"))\n",
    "evaluacion_limite = int(input(\"Número de evaluaciones: \"))\n",
    "'''"
   ]
  },
  {
   "cell_type": "code",
   "execution_count": 453,
   "metadata": {},
   "outputs": [],
   "source": [
    "numero = int(input(\"numero \"))"
   ]
  },
  {
   "cell_type": "code",
   "execution_count": 454,
   "metadata": {},
   "outputs": [],
   "source": [
    "tamaño_poblacion = int(100)\n",
    "porcentaje_padres = int(20)\n",
    "porcentaje_cruza = int(100)\n",
    "porcentaje_mutacion = int(50)\n",
    "evaluacion_limite = int(1000)"
   ]
  },
  {
   "cell_type": "code",
   "execution_count": 455,
   "metadata": {},
   "outputs": [],
   "source": [
    "''' Función que evalúa la aptitud de una solución\n",
    "    E: solución <- Matriz de un tablero\n",
    "    S: aptitud <- Aptitud de la solución dada\n",
    "'''\n",
    "def calcularAptitud(solucion):\n",
    "    reinas_fils = 0\n",
    "    reinas_cols = 0\n",
    "    reinas_diag = 0\n",
    "    for fila in range(solucion.shape[0]):\n",
    "        if (np.sum(solucion[fila,:]) > 1):\n",
    "            reinas_fils += np.sum(solucion[fila,:]) - 1\n",
    "    for col in range(solucion.shape[1]):\n",
    "        if (np.sum(solucion[:,col]) > 1):\n",
    "            reinas_cols += np.sum(solucion[:,col]) - 1\n",
    "    for i in range(-7,7):\n",
    "        if (np.trace(solucion, i) > 1):\n",
    "            reinas_diag += np.trace(solucion, i) - 1\n",
    "        if (np.trace(np.rot90(solucion), -i) > 1):\n",
    "            reinas_diag += np.trace(np.rot90(solucion), -i) - 1        \n",
    "    return int(reinas_fils+reinas_cols+reinas_diag)\n"
   ]
  },
  {
   "cell_type": "code",
   "execution_count": 456,
   "metadata": {},
   "outputs": [],
   "source": [
    "''' Función que genera la población inicial\n",
    "    E: tamaño <- Tamaño de la población\n",
    "    S: poblacio, aptitudes <- Lista de soluciones y su aptitud correspondiente  \n",
    "'''\n",
    "def generarPoblacion(tamaño):\n",
    "    poblacion = []\n",
    "    aptitudes = []\n",
    "    for index in range (0,tamaño):\n",
    "        solucion = np.zeros(64)\n",
    "        pos_reinas = random.sample(range(0, 64), 8)\n",
    "        for pos in pos_reinas:\n",
    "            solucion[pos] = 1\n",
    "        solucion = solucion.reshape((8,8))\n",
    "        aptitud = calcularAptitud(solucion)\n",
    "        aptitudes.append((index,aptitud))\n",
    "        poblacion.append(solucion)\n",
    "    return poblacion, aptitudes"
   ]
  },
  {
   "cell_type": "code",
   "execution_count": 457,
   "metadata": {},
   "outputs": [],
   "source": [
    "''' Función que selecciona un porcentaje de la población\n",
    "    E: poblacion,aptitudes,porcentaje\n",
    "    S: padres <- Lista de soluciones padre  \n",
    "'''\n",
    "def seleccionarPadres(poblacion, aptitudes, porcentaje):\n",
    "    no_padres = int((tamaño_poblacion*porcentaje)/100)\n",
    "    if ((no_padres % 2) != 0):\n",
    "        no_padres+=1\n",
    "    padres = []\n",
    "    aptitudes.sort(key=lambda a: a[1])\n",
    "    i=0\n",
    "    while i < no_padres:\n",
    "        p = np.random.uniform(0,1)\n",
    "        if (p < 0.6):\n",
    "            pos = random.sample(range(0, math.ceil(tamaño_poblacion/3)), 1)\n",
    "        elif (p > 0.6) & (p < 0.9):\n",
    "            pos = random.sample(range(math.ceil(tamaño_poblacion/3), 2*math.ceil(tamaño_poblacion/3)), 1)\n",
    "        elif (p > 0.9):\n",
    "            pos = random.sample(range(2*math.ceil(tamaño_poblacion/3), tamaño_poblacion), 1)\n",
    "        aptitud = aptitudes[pos[0]]\n",
    "        indice = aptitud[0]\n",
    "        padres.append(poblacion[indice])\n",
    "        i+=1\n",
    "    return padres"
   ]
  },
  {
   "cell_type": "code",
   "execution_count": 458,
   "metadata": {},
   "outputs": [],
   "source": [
    "def operadorCruza(solucion1, solucion2):    \n",
    "    first_half1  = solucion1[:,:4]\n",
    "    second_half1 = solucion1[:,4:]\n",
    "    first_half2  = solucion2[:,:4]\n",
    "    second_half2 = solucion2[:,4:]\n",
    "    sol_1 = np.concatenate((first_half1,second_half2),axis=1)\n",
    "    sol_2 = np.concatenate((first_half2,second_half1),axis=1)\n",
    "    return sol_1, sol_2"
   ]
  },
  {
   "cell_type": "code",
   "execution_count": 459,
   "metadata": {},
   "outputs": [],
   "source": [
    "def getRandomElement(solution, queen):\n",
    "    if (queen == True):\n",
    "        indxs = np.where(solution == 1)\n",
    "    else:\n",
    "        indxs = np.where(solution == 0)\n",
    "    rows = indxs[0]\n",
    "    cols = indxs[1]\n",
    "    idx = random.randint(0, len(rows)-1)\n",
    "    return rows[idx], cols[idx]\n",
    "\n",
    "def repairBoard(solution):\n",
    "    _, counts = np.unique(solution, return_counts=True)\n",
    "    while (counts[1] > 8):\n",
    "        row, col = getRandomElement(solution, queen=True)\n",
    "        solution[row][col] = 0\n",
    "        _, counts = np.unique(solution, return_counts=True)\n",
    "    while (counts[1] < 8):\n",
    "        row, col = getRandomElement(solution, queen=False)\n",
    "        solution[row][col] = 1\n",
    "        _, counts = np.unique(solution, return_counts=True)\n",
    "    return solution"
   ]
  },
  {
   "cell_type": "code",
   "execution_count": 460,
   "metadata": {},
   "outputs": [],
   "source": [
    "def mutateBoard(solution):\n",
    "    row_a, col_a = getRandomElement(solution, queen=True)\n",
    "    row_b, col_b = getRandomElement(solution, queen=False)\n",
    "    solution[row_a][col_a] = 0\n",
    "    solution[row_b][col_b] = 1\n",
    "    return solution"
   ]
  },
  {
   "cell_type": "code",
   "execution_count": 461,
   "metadata": {},
   "outputs": [],
   "source": [
    "# Inicializar población\n",
    "ppl, appts = generarPoblacion(tamaño_poblacion)\n",
    "best_fitness = []\n",
    "best_average = []\n",
    "best_solution = 0\n",
    "flag = False\n",
    "for count in range(evaluacion_limite):\n",
    "    # Cruzar padres y reparar hijos\n",
    "    ppdrs = seleccionarPadres(ppl, appts, porcentaje_padres)\n",
    "    hhjs = []    \n",
    "    no_cruzadores = int((len(ppdrs*porcentaje_cruza)/100))\n",
    "    if ((no_cruzadores % 2) != 0):\n",
    "        no_cruzadores+=1\n",
    "    pares = list(range(0, no_cruzadores, 2))\n",
    "    for i in pares:\n",
    "        hijo1, hijo2 = operadorCruza(ppdrs[i], ppdrs[i+1])\n",
    "        hijo1 = repairBoard(hijo1)\n",
    "        hijo2 = repairBoard(hijo2)\n",
    "        hhjs.append(hijo1)\n",
    "        hhjs.append(hijo2)\n",
    "\n",
    "    # Mutar hijos\n",
    "    no_mutados = int((len(hhjs*porcentaje_mutacion)/100))\n",
    "    for i in range(no_mutados):\n",
    "        hhjs[i] = mutateBoard(hhjs[i])\n",
    "\n",
    "    # Actualizar población\n",
    "    ppl = ppl + hhjs\n",
    "    nuevas_apptitudes = []\n",
    "    nueva_poblacion = []\n",
    "    for index in range(len(ppl)):\n",
    "            aptitud = calcularAptitud(ppl[index])\n",
    "            nuevas_apptitudes.append((index,aptitud))\n",
    "    nuevas_apptitudes.sort(key=lambda a: a[1])\n",
    "    appts = nuevas_apptitudes[:tamaño_poblacion] \n",
    "\n",
    "    for i in appts:\n",
    "        nueva_poblacion.append(ppl[i[0]])\n",
    "    ppl = nueva_poblacion\n",
    "\n",
    "    nuevas_apptitudes.clear()\n",
    "    average_fit = 0\n",
    "    for index in range(len(ppl)):\n",
    "            aptitud = calcularAptitud(ppl[index])\n",
    "            average_fit += aptitud\n",
    "            nuevas_apptitudes.append((index,aptitud))\n",
    "    appts = nuevas_apptitudes\n",
    "    average_fit = average_fit/tamaño_poblacion\n",
    "    best_fitness.append(appts[0][1])\n",
    "    best_average.append(average_fit)\n",
    "    if (appts[0][1] == 0) and (flag == False):\n",
    "        best_solution = count+1\n",
    "        break"
   ]
  },
  {
   "cell_type": "code",
   "execution_count": 462,
   "metadata": {},
   "outputs": [
    {
     "data": {
      "image/png": "[encoded data removed]",
      "text/plain": [
       "<Figure size 640x480 with 1 Axes>"
      ]
     },
     "metadata": {},
     "output_type": "display_data"
    }
   ],
   "source": [
    "plt.plot(best_fitness, label='Aptitud de la mejor solución')\n",
    "plt.plot(best_average, label='Aptitud promedio')\n",
    "\n",
    "plt.xlabel(\"Número de evaluaciones\")\n",
    "plt.ylabel(\"Aptitud\")\n",
    "plt.legend() \n",
    "plt.savefig(str(numero) + '_plot.png')"
   ]
  },
  {
   "cell_type": "code",
   "execution_count": 463,
   "metadata": {},
   "outputs": [
    {
     "name": "stdout",
     "output_type": "stream",
     "text": [
      "Tamaño de la población:  100\n",
      "Porcentaje de padres:  20\n",
      "Porcentaje de cruza:  100\n",
      "Porcentaje de mutación:  50\n",
      "Número de evaluaciones límite:  1000\n",
      "Evaluaciones necesarias:  0\n"
     ]
    }
   ],
   "source": [
    "print(\"Tamaño de la población: \", tamaño_poblacion)\n",
    "print(\"Porcentaje de padres: \", porcentaje_padres)\n",
    "print(\"Porcentaje de cruza: \", porcentaje_cruza)\n",
    "print(\"Porcentaje de mutación: \", porcentaje_mutacion)\n",
    "print(\"Número de evaluaciones límite: \", evaluacion_limite)\n",
    "print(\"Evaluaciones necesarias: \", best_solution)"
   ]
  },
  {
   "cell_type": "code",
   "execution_count": 464,
   "metadata": {},
   "outputs": [],
   "source": [
    "def fenCode(solution):\n",
    "    fen = ''\n",
    "    for i in range(8):\n",
    "        count = 0\n",
    "        i_row = ''\n",
    "        for j in range(8):\n",
    "            if (solution[i,j] == 1):\n",
    "                i_row += str(count)\n",
    "                i_row += 'Q'\n",
    "                count = 0\n",
    "            else:\n",
    "                count += 1\n",
    "        i_row += str(count)\n",
    "        fen += '/' + i_row\n",
    "    fen = fen.replace('0', '')\n",
    "    return fen[1:]"
   ]
  },
  {
   "cell_type": "code",
   "execution_count": 465,
   "metadata": {},
   "outputs": [],
   "source": [
    "solution = ppl[0].astype(int)\n",
    "fen = fenCode(solution)\n",
    "board = chess.Board(fen)\n",
    "boardsvg = chess.svg.board(board=board, size=350)\n",
    "outputfile = open(str(numero) + '_board.svg', \"w\")\n",
    "outputfile.write(boardsvg)\n",
    "outputfile.close()"
   ]
  },
  {
   "cell_type": "code",
   "execution_count": null,
   "metadata": {},
   "outputs": [],
   "source": []
  }
 ],
 "metadata": {
  "kernelspec": {
   "display_name": "Python 3",
   "language": "python",
   "name": "python3"
  },
  "language_info": {
   "codemirror_mode": {
    "name": "ipython",
    "version": 3
   },
   "file_extension": ".py",
   "mimetype": "text/x-python",
   "name": "python",
   "nbconvert_exporter": "python",
   "pygments_lexer": "ipython3",
   "version": "3.8.10"
  }
 },
 "nbformat": 4,
 "nbformat_minor": 2
}
