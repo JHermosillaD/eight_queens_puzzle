{
 "cells": [
  {
   "cell_type": "code",
   "execution_count": 1,
   "metadata": {},
   "outputs": [],
   "source": [
    "from matplotlib import pyplot as plt\n",
    "import numpy as np\n",
    "import random\n",
    "import chess\n",
    "import chess.svg"
   ]
  },
  {
   "cell_type": "code",
   "execution_count": 2,
   "metadata": {},
   "outputs": [],
   "source": [
    "# Population size\n",
    "#size_ppl = int(input(\"Population size:\"))\n",
    "size_ppl = int(100)"
   ]
  },
  {
   "cell_type": "code",
   "execution_count": 3,
   "metadata": {},
   "outputs": [],
   "source": [
    "def permutation2array(permutation):\n",
    "    array = np.zeros(64)\n",
    "    array = array.reshape((8,8))\n",
    "    for i in range(8):\n",
    "        indx = permutation[i]\n",
    "        array[indx][i] = 1\n",
    "    return array"
   ]
  },
  {
   "cell_type": "code",
   "execution_count": 4,
   "metadata": {},
   "outputs": [],
   "source": [
    "def fitnessFunction(solution):\n",
    "    row_queens = 0\n",
    "    col_queens = 0\n",
    "    dig_queens = 0\n",
    "    for row in range(solution.shape[0]):\n",
    "        if (np.sum(solution[row,:]) > 1):\n",
    "            row_queens += np.sum(solution[row,:]) - 1\n",
    "    for col in range(solution.shape[1]):\n",
    "        if (np.sum(solution[:,col]) > 1):\n",
    "            col_queens += np.sum(solution[:,col]) - 1\n",
    "    for i in range(-7,7):\n",
    "        if (np.trace(solution, i) > 1):\n",
    "            dig_queens += np.trace(solution, i) - 1\n",
    "        if (np.trace(np.rot90(solution), -i) > 1):\n",
    "            dig_queens += np.trace(np.rot90(solution), -i) - 1        \n",
    "    return int(row_queens+col_queens+dig_queens)"
   ]
  },
  {
   "cell_type": "code",
   "execution_count": 5,
   "metadata": {},
   "outputs": [],
   "source": [
    "def generatePopulation(size):\n",
    "    population = []\n",
    "    apptitudes = []\n",
    "    for index in range (0,size):\n",
    "        queens = random.sample(range(0, 8), 8)\n",
    "        # 2. Fitness or aptitude  function with attacks\n",
    "        apptitude = fitnessFunction(permutation2array(queens))\n",
    "        apptitudes.append((index,apptitude))\n",
    "        # 3. Solution population of boards\n",
    "        population.append(queens)\n",
    "        #print(\"{} <--- atacks {} \\n\".format(solution.astype(int), apptitude))\n",
    "    return population, apptitudes"
   ]
  },
  {
   "cell_type": "code",
   "execution_count": 6,
   "metadata": {},
   "outputs": [],
   "source": [
    "def parentSelection(population, fitness):\n",
    "    parents = random.sample(range(0, len(fitness)), 5)\n",
    "    temp = []\n",
    "    for i in parents:\n",
    "        temp.append(fitness[i])\n",
    "    temp.sort(key=lambda a: a[1])\n",
    "    index_1 = temp[0]\n",
    "    index_2 = temp[1]\n",
    "    \n",
    "    parent_1 = population[index_1[0]]\n",
    "    parent_2 = population[index_2[0]]\n",
    "    return fitness, parent_1, parent_2 "
   ]
  },
  {
   "cell_type": "code",
   "execution_count": 7,
   "metadata": {},
   "outputs": [],
   "source": [
    "def crossBoard(solution1, solution2):    \n",
    "    cross_pt = random.randint(0, 9)\n",
    "    first_half1  = solution1[:cross_pt]\n",
    "    second_half1 = solution1[cross_pt:]\n",
    "    first_half2  = solution2[:cross_pt]\n",
    "    second_half2 = solution2[cross_pt:]\n",
    "    sol_1 = np.concatenate((first_half1,second_half2))\n",
    "    sol_2 = np.concatenate((first_half2,second_half1))\n",
    "    return sol_1, sol_2"
   ]
  },
  {
   "cell_type": "code",
   "execution_count": 8,
   "metadata": {},
   "outputs": [],
   "source": [
    "best_fitness = []\n",
    "best_average = []\n",
    "# 1. Representation, 2. Fitness and 3. Population\n",
    "population, apptitudes = generatePopulation(size_ppl)\n",
    "# 4. Parent selection\n",
    "apptitudes, parent_1, parent_2 = parentSelection(population, apptitudes)"
   ]
  },
  {
   "cell_type": "code",
   "execution_count": 9,
   "metadata": {},
   "outputs": [
    {
     "name": "stdout",
     "output_type": "stream",
     "text": [
      "[6 0 3 0 6 7 5 1]\n",
      "[4 3 2 1 4 5 7 2]\n"
     ]
    }
   ],
   "source": [
    "son_1, son_2 = crossBoard(parent_1, parent_2)\n",
    "print(son_1)\n",
    "print(son_2)"
   ]
  },
  {
   "cell_type": "code",
   "execution_count": 10,
   "metadata": {},
   "outputs": [
    {
     "name": "stdout",
     "output_type": "stream",
     "text": [
      "falta un 2\n",
      "falta un 4\n"
     ]
    }
   ],
   "source": [
    "son_1.sort()\n",
    "for i in range(8):\n",
    "    if ((i in son_1) == False):\n",
    "        print(\"falta un\", i)"
   ]
  },
  {
   "cell_type": "code",
   "execution_count": 11,
   "metadata": {},
   "outputs": [
    {
     "name": "stdout",
     "output_type": "stream",
     "text": [
      "[0 1 3 5 6 7]\n",
      "[2 1 1 1 2 1]\n",
      "sobra un 0\n",
      "sobra un 6\n"
     ]
    }
   ],
   "source": [
    "a,b = np.unique(son_1, return_counts=True)\n",
    "print(a)\n",
    "print(b)\n",
    "for i in range(len(b)):\n",
    "    if (b[i] > 1):\n",
    "        print(\"sobra un\", a[i])"
   ]
  },
  {
   "cell_type": "code",
   "execution_count": null,
   "metadata": {},
   "outputs": [],
   "source": []
  }
 ],
 "metadata": {
  "kernelspec": {
   "display_name": "Python 3",
   "language": "python",
   "name": "python3"
  },
  "language_info": {
   "codemirror_mode": {
    "name": "ipython",
    "version": 3
   },
   "file_extension": ".py",
   "mimetype": "text/x-python",
   "name": "python",
   "nbconvert_exporter": "python",
   "pygments_lexer": "ipython3",
   "version": "3.8.10"
  }
 },
 "nbformat": 4,
 "nbformat_minor": 2
}
