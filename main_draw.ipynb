{
 "cells": [
  {
   "cell_type": "code",
   "execution_count": 1,
   "metadata": {},
   "outputs": [],
   "source": [
    "from matplotlib import pyplot as plt\n",
    "import numpy as np\n",
    "import random"
   ]
  },
  {
   "cell_type": "code",
   "execution_count": 2,
   "metadata": {},
   "outputs": [],
   "source": [
    "# Poblation size\n",
    "#size_ppl = int(input(\"Population size:\"))\n",
    "size_ppl = int(10)"
   ]
  },
  {
   "cell_type": "code",
   "execution_count": 3,
   "metadata": {},
   "outputs": [],
   "source": [
    "def fitnessFunction(solution):\n",
    "    row_queens = 0\n",
    "    col_queens = 0\n",
    "    dig_queens = 0\n",
    "    for row in range(solution.shape[0]):\n",
    "        if (np.sum(solution[row,:]) > 1):\n",
    "            row_queens += np.sum(solution[row,:]) - 1\n",
    "    for col in range(solution.shape[1]):\n",
    "        if (np.sum(solution[:,col]) > 1):\n",
    "            col_queens += np.sum(solution[:,col]) - 1\n",
    "    for i in range(-7,7):\n",
    "        if (np.trace(solution, i) > 1):\n",
    "            dig_queens += np.trace(solution, i) - 1\n",
    "        if (np.trace(np.rot90(solution), -i) > 1):\n",
    "            dig_queens += np.trace(np.rot90(solution), -i) - 1        \n",
    "    return int(row_queens+col_queens+dig_queens)"
   ]
  },
  {
   "cell_type": "code",
   "execution_count": 4,
   "metadata": {},
   "outputs": [],
   "source": [
    "def getRandomTuple(lst):\n",
    "    p = np.random.uniform(0,1)\n",
    "    if (p < 0.6):\n",
    "        return random.choice(lst[0])\n",
    "    if (p > 0.6) & (p < 0.9):\n",
    "        return random.choice(lst[1])\n",
    "    if (p > 0.9):\n",
    "        return random.choice(lst[2])"
   ]
  },
  {
   "cell_type": "code",
   "execution_count": 5,
   "metadata": {},
   "outputs": [],
   "source": [
    "def getRandomElement(solution, queen):\n",
    "    if (queen == True):\n",
    "        indxs = np.where(solution == 1)\n",
    "    else:\n",
    "        indxs = np.where(solution == 0)\n",
    "    rows = indxs[0]\n",
    "    cols = indxs[1]\n",
    "    idx = random.randint(0, len(rows)-1)\n",
    "    return rows[idx], cols[idx]"
   ]
  },
  {
   "cell_type": "code",
   "execution_count": 6,
   "metadata": {},
   "outputs": [],
   "source": [
    "def repairBoard(solution):\n",
    "    _, counts = np.unique(solution, return_counts=True)\n",
    "    while (counts[1] > 8):\n",
    "        row, col = getRandomElement(solution, queen=True)\n",
    "        solution[row][col] = 0\n",
    "        _, counts = np.unique(solution, return_counts=True)\n",
    "    while (counts[1] < 8):\n",
    "        row, col = getRandomElement(solution, queen=False)\n",
    "        solution[row][col] = 1\n",
    "        _, counts = np.unique(solution, return_counts=True)\n",
    "    return solution"
   ]
  },
  {
   "cell_type": "code",
   "execution_count": 7,
   "metadata": {},
   "outputs": [],
   "source": [
    "def parentSelection(population, fitness):\n",
    "    fitness.sort(key=lambda a: a[1])\n",
    "    split_lst = list(zip(*[iter(fitness)] * 3))\n",
    "    temp = list(split_lst[2])\n",
    "    temp.append(fitness[-1])\n",
    "    split_lst[2] = tuple(temp)\n",
    "    index_1 = getRandomTuple(split_lst)\n",
    "    index_2 = getRandomTuple(split_lst)\n",
    "    parent_1 = population[index_1[0]]\n",
    "    parent_2 = population[index_2[0]]\n",
    "    return fitness, parent_1, parent_2 "
   ]
  },
  {
   "cell_type": "code",
   "execution_count": 8,
   "metadata": {},
   "outputs": [],
   "source": [
    "def generatePopulation(size):\n",
    "    population = []\n",
    "    apptitudes = []\n",
    "    for index in range (0,size):\n",
    "        solution = np.zeros(64)\n",
    "        queens = random.sample(range(0, 64), 8)\n",
    "        for q in queens:\n",
    "            solution[q] = 1\n",
    "        # 1. Solution representation with boards\n",
    "        solution = solution.reshape((8,8))\n",
    "        # 2. Fitness or aptitude  function with attacks\n",
    "        apptitude = fitnessFunction(solution)\n",
    "        apptitudes.append((index,apptitude))\n",
    "        # 3. Solution population of boards\n",
    "        population.append(solution)\n",
    "        #print(\"{} <--- atacks {} \\n\".format(solution.astype(int), apptitude))\n",
    "    return population, apptitudes"
   ]
  },
  {
   "cell_type": "code",
   "execution_count": 9,
   "metadata": {},
   "outputs": [],
   "source": [
    "def crossBoard(solution1, solution2):    \n",
    "    first_half1  = solution1[:,:4]\n",
    "    second_half1 = solution1[:,4:]\n",
    "    first_half2  = solution2[:,:4]\n",
    "    second_half2 = solution2[:,4:]\n",
    "    sol_1 = np.concatenate((first_half1,second_half2),axis=1)\n",
    "    sol_2 = np.concatenate((first_half2,second_half1),axis=1)\n",
    "    return sol_1, sol_2"
   ]
  },
  {
   "cell_type": "code",
   "execution_count": 10,
   "metadata": {},
   "outputs": [],
   "source": [
    "def mutateBoard(solution):\n",
    "    row_a, col_a = getRandomElement(solution, queen=True)\n",
    "    row_b, col_b = getRandomElement(solution, queen=False)\n",
    "    solution[row_a][col_a] = 0\n",
    "    solution[row_b][col_b] = 1\n",
    "    return solution"
   ]
  },
  {
   "cell_type": "code",
   "execution_count": 11,
   "metadata": {},
   "outputs": [],
   "source": [
    "best_fitness = []\n",
    "best_average = []\n",
    "# 1. Representation, 2. Fitness and 3. Population\n",
    "population, apptitudes = generatePopulation(size_ppl)\n",
    "for _ in range(100):\n",
    "    # 4. Parent selection\n",
    "    apptitudes, parent_1, parent_2 = parentSelection(population, apptitudes)\n",
    "    # 5. Variation operators\n",
    "    son_1, son_2 = crossBoard(parent_1, parent_2)\n",
    "    son_1 = repairBoard(son_1)\n",
    "    son_1 = mutateBoard(son_1)\n",
    "    apptitude_1 = fitnessFunction(son_1)\n",
    "    apptitudes.append((size_ppl,apptitude_1))\n",
    "    son_2 = repairBoard(son_2)\n",
    "    son_2 = mutateBoard(son_2)\n",
    "    apptitude_2 = fitnessFunction(son_2)\n",
    "    apptitudes.append((size_ppl+1,apptitude_2))\n",
    "    #6. Board replacement mechanism\n",
    "    population.append(son_1)\n",
    "    population.append(son_2)\n",
    "    apptitudes.sort(key=lambda a: a[1])\n",
    "    population.pop(apptitudes[-1][0])\n",
    "    apptitudes.pop(-1)\n",
    "    if (apptitudes[-1][0] == 11):\n",
    "        population.pop(-1)\n",
    "    else:\n",
    "        population.pop(apptitudes[-1][0])\n",
    "    apptitudes.clear()\n",
    "    # Save best fitness\n",
    "    average_fit = 0\n",
    "    for idx in range (0,size_ppl):\n",
    "        apptitude = fitnessFunction(population[idx])\n",
    "        average_fit += apptitude\n",
    "        apptitudes.append((idx,apptitude))\n",
    "    average_fit = average_fit/size_ppl\n",
    "    best_fitness.append(apptitudes[0][1])\n",
    "    best_average.append(average_fit)"
   ]
  },
  {
   "cell_type": "code",
   "execution_count": 12,
   "metadata": {},
   "outputs": [
    {
     "data": {
      "image/png": "[encoded data removed]",
      "text/plain": [
       "<Figure size 640x480 with 1 Axes>"
      ]
     },
     "metadata": {},
     "output_type": "display_data"
    }
   ],
   "source": [
    "plt.plot(best_fitness)\n",
    "\n",
    "plt.xlabel(\"Iterations\")\n",
    "plt.ylabel(\"Best fitness\")\n",
    "plt.show()"
   ]
  },
  {
   "cell_type": "code",
   "execution_count": 13,
   "metadata": {},
   "outputs": [
    {
     "data": {
      "image/png": "[encoded data removed]",
      "text/plain": [
       "<Figure size 640x480 with 1 Axes>"
      ]
     },
     "metadata": {},
     "output_type": "display_data"
    }
   ],
   "source": [
    "plt.plot(best_average)\n",
    "\n",
    "plt.xlabel(\"Iterations\")\n",
    "plt.ylabel(\"Average fitness\")\n",
    "plt.show()"
   ]
  },
  {
   "cell_type": "code",
   "execution_count": 17,
   "metadata": {},
   "outputs": [
    {
     "data": {
      "text/plain": [
       "array([[1, 0, 0, 0, 0, 0, 0, 0],\n",
       "       [0, 0, 0, 0, 0, 0, 0, 1],\n",
       "       [0, 1, 0, 0, 0, 0, 0, 0],\n",
       "       [0, 0, 0, 0, 1, 0, 0, 0],\n",
       "       [1, 0, 0, 0, 0, 0, 0, 0],\n",
       "       [0, 0, 0, 0, 0, 0, 1, 0],\n",
       "       [0, 0, 0, 0, 0, 0, 0, 0],\n",
       "       [0, 0, 1, 0, 0, 1, 0, 0]])"
      ]
     },
     "execution_count": 17,
     "metadata": {},
     "output_type": "execute_result"
    }
   ],
   "source": [
    "population[0].astype(int)"
   ]
  },
  {
   "cell_type": "code",
   "execution_count": null,
   "metadata": {},
   "outputs": [],
   "source": []
  }
 ],
 "metadata": {
  "kernelspec": {
   "display_name": "Python 3",
   "language": "python",
   "name": "python3"
  },
  "language_info": {
   "codemirror_mode": {
    "name": "ipython",
    "version": 3
   },
   "file_extension": ".py",
   "mimetype": "text/x-python",
   "name": "python",
   "nbconvert_exporter": "python",
   "pygments_lexer": "ipython3",
   "version": "3.8.10"
  }
 },
 "nbformat": 4,
 "nbformat_minor": 2
}
